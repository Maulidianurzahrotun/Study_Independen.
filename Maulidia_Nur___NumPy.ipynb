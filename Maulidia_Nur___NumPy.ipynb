{
  "nbformat": 4,
  "nbformat_minor": 0,
  "metadata": {
    "kernelspec": {
      "display_name": "Python 3",
      "language": "python",
      "name": "python3"
    },
    "language_info": {
      "codemirror_mode": {
        "name": "ipython",
        "version": 3
      },
      "file_extension": ".py",
      "mimetype": "text/x-python",
      "name": "python",
      "nbconvert_exporter": "python",
      "pygments_lexer": "ipython3",
      "version": "3.7.4"
    },
    "colab": {
      "name": "Maulidia Nur _  NumPy.ipynb",
      "provenance": [],
      "include_colab_link": true
    }
  },
  "cells": [
    {
      "cell_type": "markdown",
      "metadata": {
        "id": "view-in-github",
        "colab_type": "text"
      },
      "source": [
        "<a href=\"https://colab.research.google.com/github/Maulidianurzahrotun/Study_Independen./blob/main/Maulidia_Nur___NumPy.ipynb\" target=\"_parent\"><img src=\"https://colab.research.google.com/assets/colab-badge.svg\" alt=\"Open In Colab\"/></a>"
      ]
    },
    {
      "cell_type": "markdown",
      "metadata": {
        "id": "OsrL4DDnsXet"
      },
      "source": [
        "# NumPy\n",
        "The NumPy library is the core library for scientific computing in Python. It provides a high-performance multidimensional array object, and tools for working with these arrays. "
      ]
    },
    {
      "cell_type": "markdown",
      "metadata": {
        "id": "o5uuDGr3sXe0"
      },
      "source": [
        "# Creating Arrays"
      ]
    },
    {
      "cell_type": "code",
      "metadata": {
        "id": "CpCv_BY1sXe2"
      },
      "source": [
        "# Import Library NumPy\n",
        "import numpy as np\n",
        "\n",
        "# Contoh Membuat Array\n",
        "a = np.array([1,2,3])\n",
        "b = np.array([(1.5,2,3), (4,5,6)], dtype = float)\n",
        "c = np.array([[(1.5,2,3), (4,5,6)], [(3,2,1), (4,5,6)]], dtype = float)"
      ],
      "execution_count": 1,
      "outputs": []
    },
    {
      "cell_type": "code",
      "metadata": {
        "id": "ltSlc4F6sXe4",
        "outputId": "f6ef5644-0893-4582-e777-fe5246814ff3",
        "colab": {
          "base_uri": "https://localhost:8080/"
        }
      },
      "source": [
        "# Menampilkan Array a\n",
        "a"
      ],
      "execution_count": 2,
      "outputs": [
        {
          "output_type": "execute_result",
          "data": {
            "text/plain": [
              "array([1, 2, 3])"
            ]
          },
          "metadata": {},
          "execution_count": 2
        }
      ]
    },
    {
      "cell_type": "code",
      "metadata": {
        "id": "-DqwT4pysXe7",
        "outputId": "f06c7e84-db20-48d6-c885-0aeae84083b8",
        "colab": {
          "base_uri": "https://localhost:8080/"
        }
      },
      "source": [
        "# Menampilkan Array b\n",
        "b"
      ],
      "execution_count": 3,
      "outputs": [
        {
          "output_type": "execute_result",
          "data": {
            "text/plain": [
              "array([[1.5, 2. , 3. ],\n",
              "       [4. , 5. , 6. ]])"
            ]
          },
          "metadata": {},
          "execution_count": 3
        }
      ]
    },
    {
      "cell_type": "code",
      "metadata": {
        "id": "u52vys8xsXe8",
        "outputId": "38874bec-4598-4240-ed88-01db505650d5",
        "colab": {
          "base_uri": "https://localhost:8080/"
        }
      },
      "source": [
        "# Menampilkan Array c\n",
        "c"
      ],
      "execution_count": 4,
      "outputs": [
        {
          "output_type": "execute_result",
          "data": {
            "text/plain": [
              "array([[[1.5, 2. , 3. ],\n",
              "        [4. , 5. , 6. ]],\n",
              "\n",
              "       [[3. , 2. , 1. ],\n",
              "        [4. , 5. , 6. ]]])"
            ]
          },
          "metadata": {},
          "execution_count": 4
        }
      ]
    },
    {
      "cell_type": "markdown",
      "metadata": {
        "id": "uBCrp4qqsXe8"
      },
      "source": [
        "### Initial Placeholders"
      ]
    },
    {
      "cell_type": "code",
      "metadata": {
        "id": "wUiUZOCJsXe9",
        "outputId": "256efde4-ce71-4240-94c6-6ac8e61b5412",
        "colab": {
          "base_uri": "https://localhost:8080/"
        }
      },
      "source": [
        "# Create an array of zeros\n",
        "np.zeros((3,4))"
      ],
      "execution_count": 6,
      "outputs": [
        {
          "output_type": "execute_result",
          "data": {
            "text/plain": [
              "array([[0., 0., 0., 0.],\n",
              "       [0., 0., 0., 0.],\n",
              "       [0., 0., 0., 0.]])"
            ]
          },
          "metadata": {},
          "execution_count": 6
        }
      ]
    },
    {
      "cell_type": "code",
      "metadata": {
        "id": "Fou7n_UtsXe_",
        "outputId": "b6f3f4d8-daf8-40d4-a82f-8fc93bd5efff",
        "colab": {
          "base_uri": "https://localhost:8080/"
        }
      },
      "source": [
        "# Create an array of ones\n",
        "np.ones((2,3,4),dtype=np.int16)"
      ],
      "execution_count": 5,
      "outputs": [
        {
          "output_type": "execute_result",
          "data": {
            "text/plain": [
              "array([[[1, 1, 1, 1],\n",
              "        [1, 1, 1, 1],\n",
              "        [1, 1, 1, 1]],\n",
              "\n",
              "       [[1, 1, 1, 1],\n",
              "        [1, 1, 1, 1],\n",
              "        [1, 1, 1, 1]]], dtype=int16)"
            ]
          },
          "metadata": {},
          "execution_count": 5
        }
      ]
    },
    {
      "cell_type": "code",
      "metadata": {
        "id": "BzZtFU8WsXfB",
        "outputId": "9e34332a-aeb7-4574-b5c6-bde3ed628567",
        "colab": {
          "base_uri": "https://localhost:8080/"
        }
      },
      "source": [
        "# Create an array of evenly spaced values (step value)\n",
        "d = np.arange(10,25,5)\n",
        "d"
      ],
      "execution_count": 7,
      "outputs": [
        {
          "output_type": "execute_result",
          "data": {
            "text/plain": [
              "array([10, 15, 20])"
            ]
          },
          "metadata": {},
          "execution_count": 7
        }
      ]
    },
    {
      "cell_type": "code",
      "metadata": {
        "id": "-3xlgc-MsXfD",
        "outputId": "5e134ecf-e253-46bf-bb65-d11100886905",
        "colab": {
          "base_uri": "https://localhost:8080/"
        }
      },
      "source": [
        "# Create an array of evenly spaced values (number of samples)\n",
        "np.linspace(0,2,9)"
      ],
      "execution_count": 8,
      "outputs": [
        {
          "output_type": "execute_result",
          "data": {
            "text/plain": [
              "array([0.  , 0.25, 0.5 , 0.75, 1.  , 1.25, 1.5 , 1.75, 2.  ])"
            ]
          },
          "metadata": {},
          "execution_count": 8
        }
      ]
    },
    {
      "cell_type": "code",
      "metadata": {
        "id": "NRx_PBvssXfF",
        "outputId": "b0871639-474a-4048-c440-4f5d57fc3af1",
        "colab": {
          "base_uri": "https://localhost:8080/"
        }
      },
      "source": [
        "# Create a constant array\n",
        "e = np.full((2,2),7)\n",
        "e"
      ],
      "execution_count": 9,
      "outputs": [
        {
          "output_type": "execute_result",
          "data": {
            "text/plain": [
              "array([[7, 7],\n",
              "       [7, 7]])"
            ]
          },
          "metadata": {},
          "execution_count": 9
        }
      ]
    },
    {
      "cell_type": "code",
      "metadata": {
        "id": "CdQdmJ9QsXfG",
        "outputId": "3ddd1e12-0737-4cb7-b36b-bbbacd1436b5",
        "colab": {
          "base_uri": "https://localhost:8080/"
        }
      },
      "source": [
        "# Create a 2X2 identity matrix\n",
        "f = np.eye(2)\n",
        "f"
      ],
      "execution_count": 10,
      "outputs": [
        {
          "output_type": "execute_result",
          "data": {
            "text/plain": [
              "array([[1., 0.],\n",
              "       [0., 1.]])"
            ]
          },
          "metadata": {},
          "execution_count": 10
        }
      ]
    },
    {
      "cell_type": "code",
      "metadata": {
        "id": "Pazodo1TsXfI",
        "outputId": "ffaa0ce9-b132-441a-a205-5465b585a175",
        "colab": {
          "base_uri": "https://localhost:8080/"
        }
      },
      "source": [
        "# Create an array with random values\n",
        "np.random.random((2,2))"
      ],
      "execution_count": 11,
      "outputs": [
        {
          "output_type": "execute_result",
          "data": {
            "text/plain": [
              "array([[0.80338126, 0.0721933 ],\n",
              "       [0.09669024, 0.51841602]])"
            ]
          },
          "metadata": {},
          "execution_count": 11
        }
      ]
    },
    {
      "cell_type": "code",
      "metadata": {
        "id": "YAXZu66UsXfK",
        "outputId": "33aadc67-f5b1-42e0-9353-0b68c55c3444",
        "colab": {
          "base_uri": "https://localhost:8080/"
        }
      },
      "source": [
        "# Create an empty array\n",
        "np.empty((3,2))"
      ],
      "execution_count": 12,
      "outputs": [
        {
          "output_type": "execute_result",
          "data": {
            "text/plain": [
              "array([[1.5, 2. ],\n",
              "       [3. , 4. ],\n",
              "       [5. , 6. ]])"
            ]
          },
          "metadata": {},
          "execution_count": 12
        }
      ]
    },
    {
      "cell_type": "markdown",
      "metadata": {
        "id": "cxKO4BrYsXfL"
      },
      "source": [
        "# Input Output"
      ]
    },
    {
      "cell_type": "markdown",
      "metadata": {
        "id": "8BMfhvv-sXfM"
      },
      "source": [
        "### Saving & Loading On Disk"
      ]
    },
    {
      "cell_type": "code",
      "metadata": {
        "id": "qPZklA6NsXfM"
      },
      "source": [
        "# np.save('my_array', a)\n",
        "# np.savez('array.npz', a, b)\n",
        "# np.load('my_array.npy')"
      ],
      "execution_count": 13,
      "outputs": []
    },
    {
      "cell_type": "code",
      "metadata": {
        "id": "cEiCJM-DsXfN"
      },
      "source": [
        "# np.loadtxt(\"myfile.txt\")\n",
        "# np.genfromtxt(\"my_file.csv\", delimiter=',')\n",
        "# np.savetxt(\"myarray.txt\", a, delimiter=\" \")"
      ],
      "execution_count": 14,
      "outputs": []
    },
    {
      "cell_type": "markdown",
      "metadata": {
        "id": "uv0Ye4HosXfO"
      },
      "source": [
        "# Data Types"
      ]
    },
    {
      "cell_type": "code",
      "metadata": {
        "id": "pFFFXo_tsXfP",
        "outputId": "8f02759a-019b-432a-ba4c-359fea6c7d7f",
        "colab": {
          "base_uri": "https://localhost:8080/"
        }
      },
      "source": [
        "# Signed 64-bit integer types\n",
        "np.int64"
      ],
      "execution_count": 15,
      "outputs": [
        {
          "output_type": "execute_result",
          "data": {
            "text/plain": [
              "numpy.int64"
            ]
          },
          "metadata": {},
          "execution_count": 15
        }
      ]
    },
    {
      "cell_type": "code",
      "metadata": {
        "id": "nSX98S3osXfQ",
        "outputId": "c2d80a39-6b5b-4bc4-c212-7069f816e5cc",
        "colab": {
          "base_uri": "https://localhost:8080/"
        }
      },
      "source": [
        "# Standard double-precision floating point\n",
        "np.float32"
      ],
      "execution_count": 16,
      "outputs": [
        {
          "output_type": "execute_result",
          "data": {
            "text/plain": [
              "numpy.float32"
            ]
          },
          "metadata": {},
          "execution_count": 16
        }
      ]
    },
    {
      "cell_type": "code",
      "metadata": {
        "id": "8AnsriyJsXfQ",
        "outputId": "58a4d581-bc9b-419a-e733-b51ee65eb1c8",
        "colab": {
          "base_uri": "https://localhost:8080/"
        }
      },
      "source": [
        "# Complex numbers represented by 128 floats\n",
        "np.complex"
      ],
      "execution_count": 17,
      "outputs": [
        {
          "output_type": "stream",
          "name": "stderr",
          "text": [
            "/usr/local/lib/python3.7/dist-packages/ipykernel_launcher.py:2: DeprecationWarning: `np.complex` is a deprecated alias for the builtin `complex`. To silence this warning, use `complex` by itself. Doing this will not modify any behavior and is safe. If you specifically wanted the numpy scalar type, use `np.complex128` here.\n",
            "Deprecated in NumPy 1.20; for more details and guidance: https://numpy.org/devdocs/release/1.20.0-notes.html#deprecations\n",
            "  \n"
          ]
        },
        {
          "output_type": "execute_result",
          "data": {
            "text/plain": [
              "complex"
            ]
          },
          "metadata": {},
          "execution_count": 17
        }
      ]
    },
    {
      "cell_type": "code",
      "metadata": {
        "id": "oY5ftp0SsXfR",
        "outputId": "5ae9ff6c-c481-48f3-882a-879353da932d",
        "colab": {
          "base_uri": "https://localhost:8080/"
        }
      },
      "source": [
        "# Boolean type storing TRUE and FALSE values\n",
        "np.bool"
      ],
      "execution_count": 18,
      "outputs": [
        {
          "output_type": "stream",
          "name": "stderr",
          "text": [
            "/usr/local/lib/python3.7/dist-packages/ipykernel_launcher.py:2: DeprecationWarning: `np.bool` is a deprecated alias for the builtin `bool`. To silence this warning, use `bool` by itself. Doing this will not modify any behavior and is safe. If you specifically wanted the numpy scalar type, use `np.bool_` here.\n",
            "Deprecated in NumPy 1.20; for more details and guidance: https://numpy.org/devdocs/release/1.20.0-notes.html#deprecations\n",
            "  \n"
          ]
        },
        {
          "output_type": "execute_result",
          "data": {
            "text/plain": [
              "bool"
            ]
          },
          "metadata": {},
          "execution_count": 18
        }
      ]
    },
    {
      "cell_type": "code",
      "metadata": {
        "id": "dtlVvXWusXfR",
        "outputId": "527adb8f-d3db-4ef0-918a-827a157b62b9",
        "colab": {
          "base_uri": "https://localhost:8080/"
        }
      },
      "source": [
        "# Python object type\n",
        "np.object"
      ],
      "execution_count": 21,
      "outputs": [
        {
          "output_type": "stream",
          "name": "stderr",
          "text": [
            "/usr/local/lib/python3.7/dist-packages/ipykernel_launcher.py:2: DeprecationWarning: `np.object` is a deprecated alias for the builtin `object`. To silence this warning, use `object` by itself. Doing this will not modify any behavior and is safe. \n",
            "Deprecated in NumPy 1.20; for more details and guidance: https://numpy.org/devdocs/release/1.20.0-notes.html#deprecations\n",
            "  \n"
          ]
        },
        {
          "output_type": "execute_result",
          "data": {
            "text/plain": [
              "object"
            ]
          },
          "metadata": {},
          "execution_count": 21
        }
      ]
    },
    {
      "cell_type": "code",
      "metadata": {
        "id": "_60WJw1nsXfR",
        "outputId": "b569bceb-74d7-49d6-f7e2-6026e71f6d7e",
        "colab": {
          "base_uri": "https://localhost:8080/"
        }
      },
      "source": [
        "# Fixed-length string type\n",
        "np.string_"
      ],
      "execution_count": 20,
      "outputs": [
        {
          "output_type": "execute_result",
          "data": {
            "text/plain": [
              "numpy.bytes_"
            ]
          },
          "metadata": {},
          "execution_count": 20
        }
      ]
    },
    {
      "cell_type": "code",
      "metadata": {
        "id": "L3OS49w1sXfS",
        "outputId": "98525c17-e6a7-4eba-e25d-d09204403d16",
        "colab": {
          "base_uri": "https://localhost:8080/"
        }
      },
      "source": [
        "# Fixed-length unicode type\n",
        "np.unicode_"
      ],
      "execution_count": 19,
      "outputs": [
        {
          "output_type": "execute_result",
          "data": {
            "text/plain": [
              "numpy.str_"
            ]
          },
          "metadata": {},
          "execution_count": 19
        }
      ]
    },
    {
      "cell_type": "markdown",
      "metadata": {
        "id": "YHAybfgCsXfS"
      },
      "source": [
        "# Inspecting Your Array "
      ]
    },
    {
      "cell_type": "code",
      "metadata": {
        "id": "MrIzecU7sXfS",
        "outputId": "7edf09aa-8bcb-412d-c9dc-b68b2d068436",
        "colab": {
          "base_uri": "https://localhost:8080/"
        }
      },
      "source": [
        "# Array dimensions\n",
        "a.shape"
      ],
      "execution_count": 22,
      "outputs": [
        {
          "output_type": "execute_result",
          "data": {
            "text/plain": [
              "(3,)"
            ]
          },
          "metadata": {},
          "execution_count": 22
        }
      ]
    },
    {
      "cell_type": "code",
      "metadata": {
        "id": "NnDuRgZDsXfT",
        "outputId": "228735dc-f402-461b-c2e1-cf3688f74768",
        "colab": {
          "base_uri": "https://localhost:8080/"
        }
      },
      "source": [
        "# Length of array\n",
        "len(a)"
      ],
      "execution_count": 23,
      "outputs": [
        {
          "output_type": "execute_result",
          "data": {
            "text/plain": [
              "3"
            ]
          },
          "metadata": {},
          "execution_count": 23
        }
      ]
    },
    {
      "cell_type": "code",
      "metadata": {
        "id": "ClPcfujusXfT",
        "outputId": "10c100dc-0179-4c53-c8a6-781c31dba012",
        "colab": {
          "base_uri": "https://localhost:8080/"
        }
      },
      "source": [
        "# Number of array dimensions\n",
        "b.ndim"
      ],
      "execution_count": 24,
      "outputs": [
        {
          "output_type": "execute_result",
          "data": {
            "text/plain": [
              "2"
            ]
          },
          "metadata": {},
          "execution_count": 24
        }
      ]
    },
    {
      "cell_type": "code",
      "metadata": {
        "id": "EG7raI5NsXfT",
        "outputId": "0e21b8c5-aa19-4822-d60d-3081e4a49550",
        "colab": {
          "base_uri": "https://localhost:8080/"
        }
      },
      "source": [
        "# Number of array elements\n",
        "e.size"
      ],
      "execution_count": 25,
      "outputs": [
        {
          "output_type": "execute_result",
          "data": {
            "text/plain": [
              "4"
            ]
          },
          "metadata": {},
          "execution_count": 25
        }
      ]
    },
    {
      "cell_type": "code",
      "metadata": {
        "id": "qxEsVp9ssXfT",
        "outputId": "1ef2e9fa-8591-4e10-f0bd-8bc7538c4271",
        "colab": {
          "base_uri": "https://localhost:8080/"
        }
      },
      "source": [
        "# Data type of array elements\n",
        "b.dtype"
      ],
      "execution_count": 26,
      "outputs": [
        {
          "output_type": "execute_result",
          "data": {
            "text/plain": [
              "dtype('float64')"
            ]
          },
          "metadata": {},
          "execution_count": 26
        }
      ]
    },
    {
      "cell_type": "code",
      "metadata": {
        "id": "B_LIh-0isXfU",
        "outputId": "0338a37d-9271-4388-92fe-feb5bd6fe6c1",
        "colab": {
          "base_uri": "https://localhost:8080/",
          "height": 35
        }
      },
      "source": [
        "# Name of data type\n",
        "b.dtype.name"
      ],
      "execution_count": 27,
      "outputs": [
        {
          "output_type": "execute_result",
          "data": {
            "text/plain": [
              "'float64'"
            ],
            "application/vnd.google.colaboratory.intrinsic+json": {
              "type": "string"
            }
          },
          "metadata": {},
          "execution_count": 27
        }
      ]
    },
    {
      "cell_type": "code",
      "metadata": {
        "id": "Geejui8TsXfU",
        "outputId": "cbadcca9-9b18-4230-b687-6d94b15869e8",
        "colab": {
          "base_uri": "https://localhost:8080/"
        }
      },
      "source": [
        "# Convert an array to a different type\n",
        "b.astype(int)"
      ],
      "execution_count": 28,
      "outputs": [
        {
          "output_type": "execute_result",
          "data": {
            "text/plain": [
              "array([[1, 2, 3],\n",
              "       [4, 5, 6]])"
            ]
          },
          "metadata": {},
          "execution_count": 28
        }
      ]
    },
    {
      "cell_type": "markdown",
      "metadata": {
        "id": "n3Rgmf1NsXfU"
      },
      "source": [
        "# Array Mathematics\n",
        "## Arithmetic Operations"
      ]
    },
    {
      "cell_type": "markdown",
      "metadata": {
        "id": "GvxDvjehsXfV"
      },
      "source": [
        "### Subtraction"
      ]
    },
    {
      "cell_type": "code",
      "metadata": {
        "id": "ywJgEJHKsXfV",
        "outputId": "229df789-8b40-4960-f499-6bf499dd9d71",
        "colab": {
          "base_uri": "https://localhost:8080/"
        }
      },
      "source": [
        "# Pengurangan Array - a-b\n",
        "g = a - b\n",
        "g"
      ],
      "execution_count": 29,
      "outputs": [
        {
          "output_type": "execute_result",
          "data": {
            "text/plain": [
              "array([[-0.5,  0. ,  0. ],\n",
              "       [-3. , -3. , -3. ]])"
            ]
          },
          "metadata": {},
          "execution_count": 29
        }
      ]
    },
    {
      "cell_type": "code",
      "metadata": {
        "id": "pebqkROWsXfV",
        "outputId": "fd356f1d-db53-4c74-f55b-196389df1cf2",
        "colab": {
          "base_uri": "https://localhost:8080/"
        }
      },
      "source": [
        "# Pengurangan Array - a-b\n",
        "np.subtract(a,b)"
      ],
      "execution_count": 30,
      "outputs": [
        {
          "output_type": "execute_result",
          "data": {
            "text/plain": [
              "array([[-0.5,  0. ,  0. ],\n",
              "       [-3. , -3. , -3. ]])"
            ]
          },
          "metadata": {},
          "execution_count": 30
        }
      ]
    },
    {
      "cell_type": "markdown",
      "metadata": {
        "id": "ehcBOP9bsXfW"
      },
      "source": [
        "### Addition"
      ]
    },
    {
      "cell_type": "code",
      "metadata": {
        "id": "uavp2SeOsXfW",
        "outputId": "fb4160db-6067-488e-bbee-8b8faea3bbf8",
        "colab": {
          "base_uri": "https://localhost:8080/"
        }
      },
      "source": [
        "# Penjumlahan Array - b+a\n",
        "b + a"
      ],
      "execution_count": 31,
      "outputs": [
        {
          "output_type": "execute_result",
          "data": {
            "text/plain": [
              "array([[2.5, 4. , 6. ],\n",
              "       [5. , 7. , 9. ]])"
            ]
          },
          "metadata": {},
          "execution_count": 31
        }
      ]
    },
    {
      "cell_type": "code",
      "metadata": {
        "id": "EUOUQsklsXfW",
        "outputId": "58990d49-c183-48f5-9640-1891fa385edc",
        "colab": {
          "base_uri": "https://localhost:8080/"
        }
      },
      "source": [
        "# Penjumlahan Array - b+a\n",
        "np.add(b,a)"
      ],
      "execution_count": 32,
      "outputs": [
        {
          "output_type": "execute_result",
          "data": {
            "text/plain": [
              "array([[2.5, 4. , 6. ],\n",
              "       [5. , 7. , 9. ]])"
            ]
          },
          "metadata": {},
          "execution_count": 32
        }
      ]
    },
    {
      "cell_type": "markdown",
      "metadata": {
        "id": "AkyEI85ksXfW"
      },
      "source": [
        "### Division"
      ]
    },
    {
      "cell_type": "code",
      "metadata": {
        "id": "baoTvhX_sXfW",
        "outputId": "3a90fc23-3e15-4841-c101-620d0207efb8",
        "colab": {
          "base_uri": "https://localhost:8080/"
        }
      },
      "source": [
        "# Pembagian Array - a/b\n",
        "a / b"
      ],
      "execution_count": 33,
      "outputs": [
        {
          "output_type": "execute_result",
          "data": {
            "text/plain": [
              "array([[0.66666667, 1.        , 1.        ],\n",
              "       [0.25      , 0.4       , 0.5       ]])"
            ]
          },
          "metadata": {},
          "execution_count": 33
        }
      ]
    },
    {
      "cell_type": "code",
      "metadata": {
        "id": "Bu1k0cTmsXfX",
        "outputId": "7c0ad8cc-997f-415e-9ab6-77e8a52a1eb9",
        "colab": {
          "base_uri": "https://localhost:8080/"
        }
      },
      "source": [
        "# Pembagian Array - a/b\n",
        "np.divide(a,b)"
      ],
      "execution_count": 34,
      "outputs": [
        {
          "output_type": "execute_result",
          "data": {
            "text/plain": [
              "array([[0.66666667, 1.        , 1.        ],\n",
              "       [0.25      , 0.4       , 0.5       ]])"
            ]
          },
          "metadata": {},
          "execution_count": 34
        }
      ]
    },
    {
      "cell_type": "markdown",
      "metadata": {
        "id": "Kol10r-osXfX"
      },
      "source": [
        "### Multiplication"
      ]
    },
    {
      "cell_type": "code",
      "metadata": {
        "id": "-4quJB5WsXfX",
        "outputId": "cf1a26ab-1d4d-4a87-ad64-9107f3d154e3",
        "colab": {
          "base_uri": "https://localhost:8080/"
        }
      },
      "source": [
        "# Perkalian Array - a*b\n",
        "a * b"
      ],
      "execution_count": 35,
      "outputs": [
        {
          "output_type": "execute_result",
          "data": {
            "text/plain": [
              "array([[ 1.5,  4. ,  9. ],\n",
              "       [ 4. , 10. , 18. ]])"
            ]
          },
          "metadata": {},
          "execution_count": 35
        }
      ]
    },
    {
      "cell_type": "code",
      "metadata": {
        "id": "NaAwfA7xsXfY",
        "outputId": "2e9d3de0-78e7-4baa-88d4-b95c240581d2",
        "colab": {
          "base_uri": "https://localhost:8080/"
        }
      },
      "source": [
        "# Perkalian Array - a*b\n",
        "np.multiply(a,b)"
      ],
      "execution_count": 36,
      "outputs": [
        {
          "output_type": "execute_result",
          "data": {
            "text/plain": [
              "array([[ 1.5,  4. ,  9. ],\n",
              "       [ 4. , 10. , 18. ]])"
            ]
          },
          "metadata": {},
          "execution_count": 36
        }
      ]
    },
    {
      "cell_type": "markdown",
      "metadata": {
        "id": "ZVnL95OOsXfY"
      },
      "source": [
        "### Exponentiation"
      ]
    },
    {
      "cell_type": "code",
      "metadata": {
        "id": "OJn5FO9wsXfY",
        "outputId": "6e8b2a96-c356-49f6-be8e-f3959f274464",
        "colab": {
          "base_uri": "https://localhost:8080/"
        }
      },
      "source": [
        "# Fungsi eksponensial pada array b\n",
        "np.exp(b)"
      ],
      "execution_count": 37,
      "outputs": [
        {
          "output_type": "execute_result",
          "data": {
            "text/plain": [
              "array([[  4.48168907,   7.3890561 ,  20.08553692],\n",
              "       [ 54.59815003, 148.4131591 , 403.42879349]])"
            ]
          },
          "metadata": {},
          "execution_count": 37
        }
      ]
    },
    {
      "cell_type": "markdown",
      "metadata": {
        "id": "5vpVImUnsXfY"
      },
      "source": [
        "### Square root"
      ]
    },
    {
      "cell_type": "code",
      "metadata": {
        "id": "Jt2DpiztsXfZ",
        "outputId": "53cf11a7-f981-4ae2-a18a-9239c6b3d24f",
        "colab": {
          "base_uri": "https://localhost:8080/"
        }
      },
      "source": [
        "# Fungsi akar pada array b\n",
        "np.sqrt(b)"
      ],
      "execution_count": 38,
      "outputs": [
        {
          "output_type": "execute_result",
          "data": {
            "text/plain": [
              "array([[1.22474487, 1.41421356, 1.73205081],\n",
              "       [2.        , 2.23606798, 2.44948974]])"
            ]
          },
          "metadata": {},
          "execution_count": 38
        }
      ]
    },
    {
      "cell_type": "markdown",
      "metadata": {
        "id": "pJX3WY_psXfZ"
      },
      "source": [
        "### Print sines of an array"
      ]
    },
    {
      "cell_type": "code",
      "metadata": {
        "id": "h5q--5-wsXfZ",
        "outputId": "f7fcc517-369a-4013-9de0-b83ea896a4c1",
        "colab": {
          "base_uri": "https://localhost:8080/"
        }
      },
      "source": [
        "# Nilai Sinus pada array a\n",
        "np.sin(a)"
      ],
      "execution_count": 39,
      "outputs": [
        {
          "output_type": "execute_result",
          "data": {
            "text/plain": [
              "array([0.84147098, 0.90929743, 0.14112001])"
            ]
          },
          "metadata": {},
          "execution_count": 39
        }
      ]
    },
    {
      "cell_type": "markdown",
      "metadata": {
        "id": "lLPJfi4ssXfa"
      },
      "source": [
        "### Element-wise cosine "
      ]
    },
    {
      "cell_type": "code",
      "metadata": {
        "id": "woOBPZ1-sXfa",
        "outputId": "425e0dcb-dafd-4908-cc51-420c61cde58f",
        "colab": {
          "base_uri": "https://localhost:8080/"
        }
      },
      "source": [
        "# Nilai Cosinus pada array b\n",
        "np.cos(b)"
      ],
      "execution_count": 40,
      "outputs": [
        {
          "output_type": "execute_result",
          "data": {
            "text/plain": [
              "array([[ 0.0707372 , -0.41614684, -0.9899925 ],\n",
              "       [-0.65364362,  0.28366219,  0.96017029]])"
            ]
          },
          "metadata": {},
          "execution_count": 40
        }
      ]
    },
    {
      "cell_type": "markdown",
      "metadata": {
        "id": "BRJPEnx2sXfa"
      },
      "source": [
        "### Element-wise natural logarithm"
      ]
    },
    {
      "cell_type": "code",
      "metadata": {
        "id": "CWWscCvLsXfb",
        "outputId": "342033d4-d66f-4ee2-950d-ddc27909de1e",
        "colab": {
          "base_uri": "https://localhost:8080/"
        }
      },
      "source": [
        "# Nilai logaritma pada array a\n",
        "np.log(a)"
      ],
      "execution_count": 41,
      "outputs": [
        {
          "output_type": "execute_result",
          "data": {
            "text/plain": [
              "array([0.        , 0.69314718, 1.09861229])"
            ]
          },
          "metadata": {},
          "execution_count": 41
        }
      ]
    },
    {
      "cell_type": "markdown",
      "metadata": {
        "id": "Xlq3z_SHsXfb"
      },
      "source": [
        "### Dot product"
      ]
    },
    {
      "cell_type": "code",
      "metadata": {
        "id": "7o5eOIcQsXfh",
        "outputId": "8d9a0183-e1b4-4279-dd29-7c052dced2f3",
        "colab": {
          "base_uri": "https://localhost:8080/"
        }
      },
      "source": [
        "# Perkalian Titik pada array f\n",
        "e.dot(f)"
      ],
      "execution_count": 42,
      "outputs": [
        {
          "output_type": "execute_result",
          "data": {
            "text/plain": [
              "array([[7., 7.],\n",
              "       [7., 7.]])"
            ]
          },
          "metadata": {},
          "execution_count": 42
        }
      ]
    },
    {
      "cell_type": "markdown",
      "metadata": {
        "id": "wFbDy13TsXfi"
      },
      "source": [
        "## Comparison"
      ]
    },
    {
      "cell_type": "markdown",
      "metadata": {
        "id": "GOulWFo2sXfi"
      },
      "source": [
        "### Element-wise comparison"
      ]
    },
    {
      "cell_type": "code",
      "metadata": {
        "id": "x5HBUsrUsXfj",
        "outputId": "35d55f52-252e-4e7c-9ca9-2335afe79284",
        "colab": {
          "base_uri": "https://localhost:8080/"
        }
      },
      "source": [
        "# Perbandingan elemen array a==b \n",
        "a == b"
      ],
      "execution_count": 43,
      "outputs": [
        {
          "output_type": "execute_result",
          "data": {
            "text/plain": [
              "array([[False,  True,  True],\n",
              "       [False, False, False]])"
            ]
          },
          "metadata": {},
          "execution_count": 43
        }
      ]
    },
    {
      "cell_type": "code",
      "metadata": {
        "id": "rastV-HtsXfj",
        "outputId": "62c1983a-ea1d-4382-ef5e-3282a486d449",
        "colab": {
          "base_uri": "https://localhost:8080/"
        }
      },
      "source": [
        "# Perbandingan elemen array a<2\n",
        "a < 2"
      ],
      "execution_count": 44,
      "outputs": [
        {
          "output_type": "execute_result",
          "data": {
            "text/plain": [
              "array([ True, False, False])"
            ]
          },
          "metadata": {},
          "execution_count": 44
        }
      ]
    },
    {
      "cell_type": "markdown",
      "metadata": {
        "id": "VlnWPKVnsXfk"
      },
      "source": [
        "### Array-wise comparison"
      ]
    },
    {
      "cell_type": "code",
      "metadata": {
        "id": "hjDq_SOIsXfk",
        "outputId": "4ec93b53-22ef-4050-9ff9-4d47b290374e",
        "colab": {
          "base_uri": "https://localhost:8080/"
        }
      },
      "source": [
        "# Perbandingan array a,b\n",
        "np.array_equal(a, b)"
      ],
      "execution_count": 45,
      "outputs": [
        {
          "output_type": "execute_result",
          "data": {
            "text/plain": [
              "False"
            ]
          },
          "metadata": {},
          "execution_count": 45
        }
      ]
    },
    {
      "cell_type": "markdown",
      "metadata": {
        "id": "fDW0MhWrsXfl"
      },
      "source": [
        "## Aggregate Functions"
      ]
    },
    {
      "cell_type": "markdown",
      "metadata": {
        "id": "Ga0tHa8FsXfl"
      },
      "source": [
        "### Array-wise sum"
      ]
    },
    {
      "cell_type": "code",
      "metadata": {
        "id": "WSH_EiMNsXfl",
        "outputId": "d783df0a-c4db-4b97-eef6-95af8dcc3f0d",
        "colab": {
          "base_uri": "https://localhost:8080/"
        }
      },
      "source": [
        "# Agregasi nilai total array a\n",
        "a.sum()"
      ],
      "execution_count": 46,
      "outputs": [
        {
          "output_type": "execute_result",
          "data": {
            "text/plain": [
              "6"
            ]
          },
          "metadata": {},
          "execution_count": 46
        }
      ]
    },
    {
      "cell_type": "markdown",
      "metadata": {
        "id": "z0rOqTdCsXfm"
      },
      "source": [
        "### Array-wise minimum value"
      ]
    },
    {
      "cell_type": "code",
      "metadata": {
        "id": "nRS4799wsXfm",
        "outputId": "37d774a1-7e6f-41fb-a003-326e2cf38473",
        "colab": {
          "base_uri": "https://localhost:8080/"
        }
      },
      "source": [
        "# Agregasi nilai minimal array a\n",
        "a.min()"
      ],
      "execution_count": 47,
      "outputs": [
        {
          "output_type": "execute_result",
          "data": {
            "text/plain": [
              "1"
            ]
          },
          "metadata": {},
          "execution_count": 47
        }
      ]
    },
    {
      "cell_type": "markdown",
      "metadata": {
        "id": "m5eiZmzfsXfm"
      },
      "source": [
        "### Maximum value of an array row"
      ]
    },
    {
      "cell_type": "code",
      "metadata": {
        "id": "q6XkpKoPsXfn",
        "outputId": "01c5f7af-128d-4a71-af03-fe518d2b8b53",
        "colab": {
          "base_uri": "https://localhost:8080/"
        }
      },
      "source": [
        "# Agregasi nilai maksimal array b\n",
        "b.max(axis=0)"
      ],
      "execution_count": 48,
      "outputs": [
        {
          "output_type": "execute_result",
          "data": {
            "text/plain": [
              "array([4., 5., 6.])"
            ]
          },
          "metadata": {},
          "execution_count": 48
        }
      ]
    },
    {
      "cell_type": "markdown",
      "metadata": {
        "id": "4pPPFvTPsXfn"
      },
      "source": [
        "### Cumulative sum of the elements"
      ]
    },
    {
      "cell_type": "code",
      "metadata": {
        "id": "I9iWLb3RsXfo",
        "outputId": "d00fda95-3291-4be8-d063-b5c264528ffc",
        "colab": {
          "base_uri": "https://localhost:8080/"
        }
      },
      "source": [
        "# Nilai kumulatif pada array b\n",
        "b.cumsum(axis=1)"
      ],
      "execution_count": 49,
      "outputs": [
        {
          "output_type": "execute_result",
          "data": {
            "text/plain": [
              "array([[ 1.5,  3.5,  6.5],\n",
              "       [ 4. ,  9. , 15. ]])"
            ]
          },
          "metadata": {},
          "execution_count": 49
        }
      ]
    },
    {
      "cell_type": "markdown",
      "metadata": {
        "id": "ww7suH0CsXfo"
      },
      "source": [
        "### Mean"
      ]
    },
    {
      "cell_type": "code",
      "metadata": {
        "id": "AV2eoCwHsXfo",
        "outputId": "199ff2f8-0985-490b-8f26-9511533458c6",
        "colab": {
          "base_uri": "https://localhost:8080/"
        }
      },
      "source": [
        "# Nilai Mean array a\n",
        "a.mean()"
      ],
      "execution_count": 50,
      "outputs": [
        {
          "output_type": "execute_result",
          "data": {
            "text/plain": [
              "2.0"
            ]
          },
          "metadata": {},
          "execution_count": 50
        }
      ]
    },
    {
      "cell_type": "markdown",
      "metadata": {
        "id": "6W7cvChWsXfp"
      },
      "source": [
        "### Median "
      ]
    },
    {
      "cell_type": "code",
      "metadata": {
        "id": "_9yqhoXusXfp",
        "outputId": "4ac228da-678a-4b19-9acb-66ca1a9185f7",
        "colab": {
          "base_uri": "https://localhost:8080/"
        }
      },
      "source": [
        "# Nilai Median array b\n",
        "np.median(b)"
      ],
      "execution_count": 51,
      "outputs": [
        {
          "output_type": "execute_result",
          "data": {
            "text/plain": [
              "3.5"
            ]
          },
          "metadata": {},
          "execution_count": 51
        }
      ]
    },
    {
      "cell_type": "markdown",
      "metadata": {
        "id": "9oCKYAf1sXfq"
      },
      "source": [
        "### Correlation coefficient"
      ]
    },
    {
      "cell_type": "code",
      "metadata": {
        "id": "gpK0oFyKsXfq",
        "outputId": "803ff762-14fb-4242-88cd-90d28689f1a2",
        "colab": {
          "base_uri": "https://localhost:8080/"
        }
      },
      "source": [
        "# Nilai korelasi koefisien array a\n",
        "np.corrcoef(a)"
      ],
      "execution_count": 52,
      "outputs": [
        {
          "output_type": "execute_result",
          "data": {
            "text/plain": [
              "1.0"
            ]
          },
          "metadata": {},
          "execution_count": 52
        }
      ]
    },
    {
      "cell_type": "markdown",
      "metadata": {
        "id": "RRVfnzjrsXfq"
      },
      "source": [
        "### Standard deviation"
      ]
    },
    {
      "cell_type": "code",
      "metadata": {
        "id": "vSNrmX-1sXfr",
        "outputId": "23c425fe-17eb-4d5a-d628-35549bf61003",
        "colab": {
          "base_uri": "https://localhost:8080/"
        }
      },
      "source": [
        "# Nilai standar defiasi array b\n",
        "np.std(b)"
      ],
      "execution_count": 53,
      "outputs": [
        {
          "output_type": "execute_result",
          "data": {
            "text/plain": [
              "1.5920810978785667"
            ]
          },
          "metadata": {},
          "execution_count": 53
        }
      ]
    },
    {
      "cell_type": "markdown",
      "metadata": {
        "id": "KLrk2t8osXfr"
      },
      "source": [
        "# Copying Arrays"
      ]
    },
    {
      "cell_type": "markdown",
      "metadata": {
        "id": "NvyzG5_isXfr"
      },
      "source": [
        "### Create a view of the array with the same data"
      ]
    },
    {
      "cell_type": "code",
      "metadata": {
        "id": "U9hvdixasXfs",
        "outputId": "86dafec7-0ab5-4dcf-a77c-f754aed650ea",
        "colab": {
          "base_uri": "https://localhost:8080/"
        }
      },
      "source": [
        "# Melihat isi array a\n",
        "h = a.view()\n",
        "h"
      ],
      "execution_count": 54,
      "outputs": [
        {
          "output_type": "execute_result",
          "data": {
            "text/plain": [
              "array([1, 2, 3])"
            ]
          },
          "metadata": {},
          "execution_count": 54
        }
      ]
    },
    {
      "cell_type": "markdown",
      "metadata": {
        "id": "8aqmEqA_sXfs"
      },
      "source": [
        "### Create a copy of the array"
      ]
    },
    {
      "cell_type": "code",
      "metadata": {
        "id": "t0MpbWLlsXft",
        "outputId": "83048414-7bdc-4bae-a3d5-f2db61ad7658",
        "colab": {
          "base_uri": "https://localhost:8080/"
        }
      },
      "source": [
        "# Copy array a\n",
        "np.copy(a)"
      ],
      "execution_count": 55,
      "outputs": [
        {
          "output_type": "execute_result",
          "data": {
            "text/plain": [
              "array([1, 2, 3])"
            ]
          },
          "metadata": {},
          "execution_count": 55
        }
      ]
    },
    {
      "cell_type": "markdown",
      "metadata": {
        "id": "vjDPekhcsXft"
      },
      "source": [
        "### Create a deep copy of the array"
      ]
    },
    {
      "cell_type": "code",
      "metadata": {
        "id": "yjMxtm67sXft",
        "outputId": "5311585f-3d94-460a-cf5b-0442f167c163",
        "colab": {
          "base_uri": "https://localhost:8080/"
        }
      },
      "source": [
        "# Deef copy array a\n",
        "h = a.copy()\n",
        "h"
      ],
      "execution_count": 56,
      "outputs": [
        {
          "output_type": "execute_result",
          "data": {
            "text/plain": [
              "array([1, 2, 3])"
            ]
          },
          "metadata": {},
          "execution_count": 56
        }
      ]
    },
    {
      "cell_type": "markdown",
      "metadata": {
        "id": "RIZz0ZW8sXfu"
      },
      "source": [
        "# Sorting Arrays"
      ]
    },
    {
      "cell_type": "markdown",
      "metadata": {
        "id": "huVZNc0ZsXfu"
      },
      "source": [
        "### Sort an array"
      ]
    },
    {
      "cell_type": "code",
      "metadata": {
        "id": "7CluyJD5sXfu",
        "outputId": "f0b69bbe-35a0-478b-d3c1-4863298eee59",
        "colab": {
          "base_uri": "https://localhost:8080/"
        }
      },
      "source": [
        "# Mengurutkan array a\n",
        "a.sort()\n",
        "a"
      ],
      "execution_count": 57,
      "outputs": [
        {
          "output_type": "execute_result",
          "data": {
            "text/plain": [
              "array([1, 2, 3])"
            ]
          },
          "metadata": {},
          "execution_count": 57
        }
      ]
    },
    {
      "cell_type": "markdown",
      "metadata": {
        "id": "5Y4m6L6EsXfv"
      },
      "source": [
        "### Sort the elements of an array's axis"
      ]
    },
    {
      "cell_type": "code",
      "metadata": {
        "id": "-gHWPbsdsXfv",
        "outputId": "acd04808-d80e-4e42-d836-0e3e58ac49ff",
        "colab": {
          "base_uri": "https://localhost:8080/"
        }
      },
      "source": [
        "# Mengurutkan array c\n",
        "c.sort(axis=0)\n",
        "c"
      ],
      "execution_count": 58,
      "outputs": [
        {
          "output_type": "execute_result",
          "data": {
            "text/plain": [
              "array([[[1.5, 2. , 1. ],\n",
              "        [4. , 5. , 6. ]],\n",
              "\n",
              "       [[3. , 2. , 3. ],\n",
              "        [4. , 5. , 6. ]]])"
            ]
          },
          "metadata": {},
          "execution_count": 58
        }
      ]
    },
    {
      "cell_type": "markdown",
      "metadata": {
        "id": "wVO9P3rusXfw"
      },
      "source": [
        "# Subsetting, Slicing, Indexing"
      ]
    },
    {
      "cell_type": "markdown",
      "metadata": {
        "id": "hKQPVLBgsXfw"
      },
      "source": [
        "## Subsetting"
      ]
    },
    {
      "cell_type": "markdown",
      "metadata": {
        "id": "nkos5wdQsXfw"
      },
      "source": [
        "### Select the element at the 2nd index"
      ]
    },
    {
      "cell_type": "code",
      "metadata": {
        "id": "sdoMbzHHsXfx",
        "outputId": "ee81ffbe-6174-4646-976d-74cc81b9092c",
        "colab": {
          "base_uri": "https://localhost:8080/"
        }
      },
      "source": [
        "# Mengambil nilai index ke 2 pada elemen array a\n",
        "a[2]"
      ],
      "execution_count": null,
      "outputs": [
        {
          "output_type": "execute_result",
          "data": {
            "text/plain": [
              "3"
            ]
          },
          "metadata": {},
          "execution_count": 59
        }
      ]
    },
    {
      "cell_type": "markdown",
      "metadata": {
        "id": "7Y4O8SnUsXfx"
      },
      "source": [
        "### Select the element at row 1 column 2 (equivalent to b[1][2])\n"
      ]
    },
    {
      "cell_type": "code",
      "metadata": {
        "id": "CR8r0zJ4sXfy",
        "outputId": "a937e84a-109e-4328-c8bd-8fb6ab388174",
        "colab": {
          "base_uri": "https://localhost:8080/"
        }
      },
      "source": [
        "# Mengambil nilai baris ke 1 kolom ke 2 pada elemen array a\n",
        "b[1,2]"
      ],
      "execution_count": 59,
      "outputs": [
        {
          "output_type": "execute_result",
          "data": {
            "text/plain": [
              "6.0"
            ]
          },
          "metadata": {},
          "execution_count": 59
        }
      ]
    },
    {
      "cell_type": "markdown",
      "metadata": {
        "id": "drLOEvRpsXfy"
      },
      "source": [
        "## Slicing"
      ]
    },
    {
      "cell_type": "markdown",
      "metadata": {
        "id": "hlgx2dUjsXfy"
      },
      "source": [
        "### Select items at index 0 and 1"
      ]
    },
    {
      "cell_type": "code",
      "metadata": {
        "id": "JxCTlCQosXf1",
        "outputId": "2a893e18-0868-4637-bed9-e0142c447e89",
        "colab": {
          "base_uri": "https://localhost:8080/"
        }
      },
      "source": [
        "# Mengambil nilai index ke 0 - 1 pada elemen array a\n",
        "a[0:2]"
      ],
      "execution_count": 60,
      "outputs": [
        {
          "output_type": "execute_result",
          "data": {
            "text/plain": [
              "array([1, 2])"
            ]
          },
          "metadata": {},
          "execution_count": 60
        }
      ]
    },
    {
      "cell_type": "markdown",
      "metadata": {
        "id": "zyMN1FMgsXf1"
      },
      "source": [
        "### Select items at rows 0 and 1 in column 1"
      ]
    },
    {
      "cell_type": "code",
      "metadata": {
        "id": "WKYGyK50sXf2",
        "outputId": "4e5a8d1f-a954-4902-9466-ee0882e5504a",
        "colab": {
          "base_uri": "https://localhost:8080/"
        }
      },
      "source": [
        "# Mengambil nilai index ke 0 - 1 kolom ke 1 pada elemen array b\n",
        "b[0:2,1] "
      ],
      "execution_count": 61,
      "outputs": [
        {
          "output_type": "execute_result",
          "data": {
            "text/plain": [
              "array([2., 5.])"
            ]
          },
          "metadata": {},
          "execution_count": 61
        }
      ]
    },
    {
      "cell_type": "markdown",
      "metadata": {
        "id": "rPfu4GJIsXf2"
      },
      "source": [
        "### Select all items at row 0 (equivalent to b[0:1, :])"
      ]
    },
    {
      "cell_type": "code",
      "metadata": {
        "id": "TcJjYluksXf3",
        "outputId": "08c7dc1e-86fa-455f-e5b2-edc19b750b40",
        "colab": {
          "base_uri": "https://localhost:8080/"
        }
      },
      "source": [
        "# Mengambil semua nilai baris ke 0 pada elemen array b\n",
        "b[:1]"
      ],
      "execution_count": 62,
      "outputs": [
        {
          "output_type": "execute_result",
          "data": {
            "text/plain": [
              "array([[1.5, 2. , 3. ]])"
            ]
          },
          "metadata": {},
          "execution_count": 62
        }
      ]
    },
    {
      "cell_type": "markdown",
      "metadata": {
        "id": "apfYFg4jsXf3"
      },
      "source": [
        "### Same as [1,:,:]"
      ]
    },
    {
      "cell_type": "code",
      "metadata": {
        "id": "rr2tgnZdsXf3",
        "outputId": "91871702-ff1b-4b86-b5d4-7afb37e4be2c",
        "colab": {
          "base_uri": "https://localhost:8080/"
        }
      },
      "source": [
        "# Mengambil semua nilai baris ke 1 pada elemen array c\n",
        "c[1,...]"
      ],
      "execution_count": 63,
      "outputs": [
        {
          "output_type": "execute_result",
          "data": {
            "text/plain": [
              "array([[3., 2., 3.],\n",
              "       [4., 5., 6.]])"
            ]
          },
          "metadata": {},
          "execution_count": 63
        }
      ]
    },
    {
      "cell_type": "markdown",
      "metadata": {
        "id": "2dkMqyFVsXf4"
      },
      "source": [
        "### Reversed array a "
      ]
    },
    {
      "cell_type": "code",
      "metadata": {
        "id": "8c3KPD8TsXf4",
        "outputId": "02bf8094-be43-40ee-f101-10abee106f97",
        "colab": {
          "base_uri": "https://localhost:8080/"
        }
      },
      "source": [
        "# Mengambil nilai pada elemen array a secara terbalik\n",
        "a[ : :-1]"
      ],
      "execution_count": 64,
      "outputs": [
        {
          "output_type": "execute_result",
          "data": {
            "text/plain": [
              "array([3, 2, 1])"
            ]
          },
          "metadata": {},
          "execution_count": 64
        }
      ]
    },
    {
      "cell_type": "markdown",
      "metadata": {
        "id": "JoqTrBTSsXf5"
      },
      "source": [
        "# Array Manipulation"
      ]
    },
    {
      "cell_type": "markdown",
      "metadata": {
        "id": "7RNzpi_KsXf5"
      },
      "source": [
        "## Transposing Array"
      ]
    },
    {
      "cell_type": "markdown",
      "metadata": {
        "id": "UDQZAnwbsXf5"
      },
      "source": [
        "### Permute array dimensions"
      ]
    },
    {
      "cell_type": "code",
      "metadata": {
        "id": "A10Tf4I_sXf6"
      },
      "source": [
        "# Transpose array b\n",
        "i = np.transpose(b)"
      ],
      "execution_count": 65,
      "outputs": []
    },
    {
      "cell_type": "code",
      "metadata": {
        "id": "9jtPsDKlsXf6",
        "outputId": "961436d4-b06b-438d-cf78-cf80ff4c18e8",
        "colab": {
          "base_uri": "https://localhost:8080/"
        }
      },
      "source": [
        "i.T"
      ],
      "execution_count": 66,
      "outputs": [
        {
          "output_type": "execute_result",
          "data": {
            "text/plain": [
              "array([[1.5, 2. , 3. ],\n",
              "       [4. , 5. , 6. ]])"
            ]
          },
          "metadata": {},
          "execution_count": 66
        }
      ]
    },
    {
      "cell_type": "markdown",
      "metadata": {
        "id": "cW5VXqInsXf6"
      },
      "source": [
        "##  Changing Array Shape"
      ]
    },
    {
      "cell_type": "markdown",
      "metadata": {
        "id": "tk9tOHi0sXf7"
      },
      "source": [
        "### Flatten the array"
      ]
    },
    {
      "cell_type": "code",
      "metadata": {
        "id": "YF3WtMPWsXf7",
        "outputId": "5d97e96c-a778-42d3-ce4f-b9357132d6ce",
        "colab": {
          "base_uri": "https://localhost:8080/"
        }
      },
      "source": [
        "b"
      ],
      "execution_count": 67,
      "outputs": [
        {
          "output_type": "execute_result",
          "data": {
            "text/plain": [
              "array([[1.5, 2. , 3. ],\n",
              "       [4. , 5. , 6. ]])"
            ]
          },
          "metadata": {},
          "execution_count": 67
        }
      ]
    },
    {
      "cell_type": "code",
      "metadata": {
        "id": "_o860hBEsXf8",
        "outputId": "1e978a02-c6ab-40bb-85ff-d8655858966f",
        "colab": {
          "base_uri": "https://localhost:8080/"
        }
      },
      "source": [
        "# Meratakan array b menjadi satu dimensi\n",
        "b.ravel()"
      ],
      "execution_count": 68,
      "outputs": [
        {
          "output_type": "execute_result",
          "data": {
            "text/plain": [
              "array([1.5, 2. , 3. , 4. , 5. , 6. ])"
            ]
          },
          "metadata": {},
          "execution_count": 68
        }
      ]
    },
    {
      "cell_type": "markdown",
      "metadata": {
        "id": "s-1r6us6sXf8"
      },
      "source": [
        "### Reshape, but don’t change data"
      ]
    },
    {
      "cell_type": "code",
      "metadata": {
        "id": "soiD6MeYsXf8",
        "outputId": "59f3e07a-293c-4a43-ce84-c0c730d2f657",
        "colab": {
          "base_uri": "https://localhost:8080/"
        }
      },
      "source": [
        "g"
      ],
      "execution_count": 69,
      "outputs": [
        {
          "output_type": "execute_result",
          "data": {
            "text/plain": [
              "array([[-0.5,  0. ,  0. ],\n",
              "       [-3. , -3. , -3. ]])"
            ]
          },
          "metadata": {},
          "execution_count": 69
        }
      ]
    },
    {
      "cell_type": "code",
      "metadata": {
        "id": "RCHtLLXpsXf9",
        "outputId": "ead177d5-68e4-41eb-87c5-2b364213f53c",
        "colab": {
          "base_uri": "https://localhost:8080/"
        }
      },
      "source": [
        "# Mengubah array g menjadi 2 dimensi\n",
        "g.reshape(3,-2)"
      ],
      "execution_count": 70,
      "outputs": [
        {
          "output_type": "execute_result",
          "data": {
            "text/plain": [
              "array([[-0.5,  0. ],\n",
              "       [ 0. , -3. ],\n",
              "       [-3. , -3. ]])"
            ]
          },
          "metadata": {},
          "execution_count": 70
        }
      ]
    },
    {
      "cell_type": "markdown",
      "metadata": {
        "id": "DH1aBOkjsXf9"
      },
      "source": [
        "## Adding/Removing Elements"
      ]
    },
    {
      "cell_type": "markdown",
      "metadata": {
        "id": "Qz39qsJqsXf9"
      },
      "source": [
        "### Return a new array with shape (2,6) "
      ]
    },
    {
      "cell_type": "code",
      "metadata": {
        "id": "lxYizlsEsXf-",
        "outputId": "b8a9d6ad-8a6c-4da1-d908-7291c1e3364a",
        "colab": {
          "base_uri": "https://localhost:8080/"
        }
      },
      "source": [
        "h"
      ],
      "execution_count": 71,
      "outputs": [
        {
          "output_type": "execute_result",
          "data": {
            "text/plain": [
              "array([1, 2, 3])"
            ]
          },
          "metadata": {},
          "execution_count": 71
        }
      ]
    },
    {
      "cell_type": "code",
      "metadata": {
        "scrolled": true,
        "id": "rVNC8KmAsXf-",
        "outputId": "8d2d4551-ee7e-4025-a137-34fa3bdb082f",
        "colab": {
          "base_uri": "https://localhost:8080/"
        }
      },
      "source": [
        "# Menambah jumlah elemen array\n",
        "np.resize(h, (2,6))"
      ],
      "execution_count": 72,
      "outputs": [
        {
          "output_type": "execute_result",
          "data": {
            "text/plain": [
              "array([[1, 2, 3, 1, 2, 3],\n",
              "       [1, 2, 3, 1, 2, 3]])"
            ]
          },
          "metadata": {},
          "execution_count": 72
        }
      ]
    },
    {
      "cell_type": "markdown",
      "metadata": {
        "id": "xs6tA9cusXf-"
      },
      "source": [
        "### Append items to an array"
      ]
    },
    {
      "cell_type": "code",
      "metadata": {
        "id": "8eCV7tRZsXf_",
        "outputId": "ff2ae6d1-9aa6-49f2-e3c2-3771c6d65663",
        "colab": {
          "base_uri": "https://localhost:8080/"
        }
      },
      "source": [
        "h"
      ],
      "execution_count": null,
      "outputs": [
        {
          "output_type": "execute_result",
          "data": {
            "text/plain": [
              "array([1, 2, 3])"
            ]
          },
          "metadata": {},
          "execution_count": 74
        }
      ]
    },
    {
      "cell_type": "code",
      "metadata": {
        "id": "4AAtuI2tsXf_",
        "outputId": "ba3d0d3f-6196-40a4-b841-72852a2ebda7",
        "colab": {
          "base_uri": "https://localhost:8080/"
        }
      },
      "source": [
        "g"
      ],
      "execution_count": null,
      "outputs": [
        {
          "output_type": "execute_result",
          "data": {
            "text/plain": [
              "array([[-0.5,  0. ,  0. ],\n",
              "       [-3. , -3. , -3. ]])"
            ]
          },
          "metadata": {},
          "execution_count": 75
        }
      ]
    },
    {
      "cell_type": "code",
      "metadata": {
        "id": "KGTzqLtLsXf_",
        "outputId": "396add5d-cce0-4b66-d38b-527b1fc396cc",
        "colab": {
          "base_uri": "https://localhost:8080/"
        }
      },
      "source": [
        "# Menambahkan elemen array h dengan array g \n",
        "np.append(h,g)"
      ],
      "execution_count": null,
      "outputs": [
        {
          "output_type": "execute_result",
          "data": {
            "text/plain": [
              "array([ 1. ,  2. ,  3. , -0.5,  0. ,  0. , -3. , -3. , -3. ])"
            ]
          },
          "metadata": {},
          "execution_count": 76
        }
      ]
    },
    {
      "cell_type": "markdown",
      "metadata": {
        "id": "1WwvFYnJsXgA"
      },
      "source": [
        "### Insert items in an array"
      ]
    },
    {
      "cell_type": "code",
      "metadata": {
        "id": "JNmsYUjAsXgA",
        "outputId": "1ccb835f-2a73-4e05-8e09-0324164c1573",
        "colab": {
          "base_uri": "https://localhost:8080/"
        }
      },
      "source": [
        "a"
      ],
      "execution_count": 73,
      "outputs": [
        {
          "output_type": "execute_result",
          "data": {
            "text/plain": [
              "array([1, 2, 3])"
            ]
          },
          "metadata": {},
          "execution_count": 73
        }
      ]
    },
    {
      "cell_type": "code",
      "metadata": {
        "id": "xtYH69x8sXgA",
        "outputId": "36382935-f6be-4eb6-c836-aa289b7e597e",
        "colab": {
          "base_uri": "https://localhost:8080/"
        }
      },
      "source": [
        "# Memasukkan nilai 5 index ke 1 dalam array a\n",
        "np.insert(a, 1, 5)"
      ],
      "execution_count": 74,
      "outputs": [
        {
          "output_type": "execute_result",
          "data": {
            "text/plain": [
              "array([1, 5, 2, 3])"
            ]
          },
          "metadata": {},
          "execution_count": 74
        }
      ]
    },
    {
      "cell_type": "markdown",
      "metadata": {
        "id": "8vPo_C93sXgA"
      },
      "source": [
        "### Delete items from an array"
      ]
    },
    {
      "cell_type": "code",
      "metadata": {
        "id": "zxbUSoEUsXgB",
        "outputId": "cb92115c-85de-4aa8-dbc3-65aaad988d55",
        "colab": {
          "base_uri": "https://localhost:8080/"
        }
      },
      "source": [
        "a"
      ],
      "execution_count": 75,
      "outputs": [
        {
          "output_type": "execute_result",
          "data": {
            "text/plain": [
              "array([1, 2, 3])"
            ]
          },
          "metadata": {},
          "execution_count": 75
        }
      ]
    },
    {
      "cell_type": "code",
      "metadata": {
        "id": "--E6RLSgsXgB",
        "outputId": "f6c101e4-1227-44ae-ed35-d45346d25654",
        "colab": {
          "base_uri": "https://localhost:8080/"
        }
      },
      "source": [
        "# Menghapus elemen array a index ke 1\n",
        "np.delete(a,[1])"
      ],
      "execution_count": 76,
      "outputs": [
        {
          "output_type": "execute_result",
          "data": {
            "text/plain": [
              "array([1, 3])"
            ]
          },
          "metadata": {},
          "execution_count": 76
        }
      ]
    },
    {
      "cell_type": "markdown",
      "metadata": {
        "id": "k0lYA6ulsXgB"
      },
      "source": [
        "## Combining Arrays"
      ]
    },
    {
      "cell_type": "markdown",
      "metadata": {
        "id": "s0gpp_R7sXgB"
      },
      "source": [
        "###  Concatenate arrays"
      ]
    },
    {
      "cell_type": "code",
      "metadata": {
        "id": "PUKsb9JosXgC",
        "outputId": "e87aa87a-95a6-4a0e-da5f-7a8e80d68eb4",
        "colab": {
          "base_uri": "https://localhost:8080/"
        }
      },
      "source": [
        "a"
      ],
      "execution_count": 77,
      "outputs": [
        {
          "output_type": "execute_result",
          "data": {
            "text/plain": [
              "array([1, 2, 3])"
            ]
          },
          "metadata": {},
          "execution_count": 77
        }
      ]
    },
    {
      "cell_type": "code",
      "metadata": {
        "id": "N-xuSxw2sXgC",
        "outputId": "d633830f-65a1-4f59-d202-a49e32fa4588",
        "colab": {
          "base_uri": "https://localhost:8080/"
        }
      },
      "source": [
        "d"
      ],
      "execution_count": 78,
      "outputs": [
        {
          "output_type": "execute_result",
          "data": {
            "text/plain": [
              "array([10, 15, 20])"
            ]
          },
          "metadata": {},
          "execution_count": 78
        }
      ]
    },
    {
      "cell_type": "code",
      "metadata": {
        "id": "yOZrqK2SsXgC",
        "outputId": "4dc14eb4-3182-4c3e-d77f-e2391ca1a396",
        "colab": {
          "base_uri": "https://localhost:8080/"
        }
      },
      "source": [
        "# Menggabungkan elemen array a dan d\n",
        "np.concatenate((a,d),axis=0) "
      ],
      "execution_count": 79,
      "outputs": [
        {
          "output_type": "execute_result",
          "data": {
            "text/plain": [
              "array([ 1,  2,  3, 10, 15, 20])"
            ]
          },
          "metadata": {},
          "execution_count": 79
        }
      ]
    },
    {
      "cell_type": "markdown",
      "metadata": {
        "id": "0sBAzX6DsXgC"
      },
      "source": [
        "### Stack arrays vertically (row-wise)"
      ]
    },
    {
      "cell_type": "code",
      "metadata": {
        "id": "RWYRB5uUsXgD",
        "outputId": "ac9ac999-5beb-4ab2-e63b-b1d26b73b7cb",
        "colab": {
          "base_uri": "https://localhost:8080/"
        }
      },
      "source": [
        "a"
      ],
      "execution_count": 80,
      "outputs": [
        {
          "output_type": "execute_result",
          "data": {
            "text/plain": [
              "array([1, 2, 3])"
            ]
          },
          "metadata": {},
          "execution_count": 80
        }
      ]
    },
    {
      "cell_type": "code",
      "metadata": {
        "id": "M9Ak8OcqsXgD",
        "outputId": "7710f1b3-f745-423b-8418-3ff990757154",
        "colab": {
          "base_uri": "https://localhost:8080/"
        }
      },
      "source": [
        "b"
      ],
      "execution_count": 81,
      "outputs": [
        {
          "output_type": "execute_result",
          "data": {
            "text/plain": [
              "array([[1.5, 2. , 3. ],\n",
              "       [4. , 5. , 6. ]])"
            ]
          },
          "metadata": {},
          "execution_count": 81
        }
      ]
    },
    {
      "cell_type": "code",
      "metadata": {
        "scrolled": true,
        "id": "N0tuSXqUsXgD",
        "outputId": "434f8cb1-c580-4376-9c79-f6fe95ca21fa",
        "colab": {
          "base_uri": "https://localhost:8080/"
        }
      },
      "source": [
        "# Susunan array secara vertikal (berdasarkan baris) array a dan b\n",
        "np.vstack((a,b))"
      ],
      "execution_count": 82,
      "outputs": [
        {
          "output_type": "execute_result",
          "data": {
            "text/plain": [
              "array([[1. , 2. , 3. ],\n",
              "       [1.5, 2. , 3. ],\n",
              "       [4. , 5. , 6. ]])"
            ]
          },
          "metadata": {},
          "execution_count": 82
        }
      ]
    },
    {
      "cell_type": "markdown",
      "metadata": {
        "id": "--wIKGEUsXgD"
      },
      "source": [
        "### Stack arrays vertically (row-wise)"
      ]
    },
    {
      "cell_type": "code",
      "metadata": {
        "id": "5bPoMFpAsXgE",
        "outputId": "38d9f131-9079-47aa-f3fd-d5b915a352e7",
        "colab": {
          "base_uri": "https://localhost:8080/"
        }
      },
      "source": [
        "e"
      ],
      "execution_count": null,
      "outputs": [
        {
          "output_type": "execute_result",
          "data": {
            "text/plain": [
              "array([[7, 7],\n",
              "       [7, 7]])"
            ]
          },
          "metadata": {},
          "execution_count": 87
        }
      ]
    },
    {
      "cell_type": "code",
      "metadata": {
        "id": "2Po7tUyfsXgE",
        "outputId": "f72bec2a-dc7b-4e1f-d2f9-a8f9ff7fb75b",
        "colab": {
          "base_uri": "https://localhost:8080/"
        }
      },
      "source": [
        "f"
      ],
      "execution_count": null,
      "outputs": [
        {
          "output_type": "execute_result",
          "data": {
            "text/plain": [
              "array([[1., 0.],\n",
              "       [0., 1.]])"
            ]
          },
          "metadata": {},
          "execution_count": 88
        }
      ]
    },
    {
      "cell_type": "code",
      "metadata": {
        "id": "jeRULHqHsXgE",
        "outputId": "311578c7-66b4-4c6a-a392-c53ae8acebdd",
        "colab": {
          "base_uri": "https://localhost:8080/"
        }
      },
      "source": [
        "# Susunan array secara vertikal (berdasarkan baris) array e dan f\n",
        "np.r_[e,f]"
      ],
      "execution_count": null,
      "outputs": [
        {
          "output_type": "execute_result",
          "data": {
            "text/plain": [
              "array([[7., 7.],\n",
              "       [7., 7.],\n",
              "       [1., 0.],\n",
              "       [0., 1.]])"
            ]
          },
          "metadata": {},
          "execution_count": 89
        }
      ]
    },
    {
      "cell_type": "markdown",
      "metadata": {
        "id": "1d9ruoHFsXgE"
      },
      "source": [
        "### Stack arrays horizontally (column-wise)"
      ]
    },
    {
      "cell_type": "code",
      "metadata": {
        "id": "DLRKp0tlsXgF",
        "outputId": "83750076-8eec-441f-e806-29c6a6564b96",
        "colab": {
          "base_uri": "https://localhost:8080/"
        }
      },
      "source": [
        "# Susunan array secara horizontal (berdasarkan kolom) array e dan f\n",
        "np.hstack((e,f))"
      ],
      "execution_count": 83,
      "outputs": [
        {
          "output_type": "execute_result",
          "data": {
            "text/plain": [
              "array([[7., 7., 1., 0.],\n",
              "       [7., 7., 0., 1.]])"
            ]
          },
          "metadata": {},
          "execution_count": 83
        }
      ]
    },
    {
      "cell_type": "markdown",
      "metadata": {
        "id": "_W7JKsxssXgF"
      },
      "source": [
        "### Create stacked column-wise arrays "
      ]
    },
    {
      "cell_type": "code",
      "metadata": {
        "id": "CmI6tXRNsXgF",
        "outputId": "f7cd1ab2-2ec9-482e-ad43-70ea30947f0c",
        "colab": {
          "base_uri": "https://localhost:8080/"
        }
      },
      "source": [
        "a"
      ],
      "execution_count": 84,
      "outputs": [
        {
          "output_type": "execute_result",
          "data": {
            "text/plain": [
              "array([1, 2, 3])"
            ]
          },
          "metadata": {},
          "execution_count": 84
        }
      ]
    },
    {
      "cell_type": "code",
      "metadata": {
        "id": "wcyAweArsXgF",
        "outputId": "abf419c6-dafe-4a5d-b69f-0cc4e2f077a6",
        "colab": {
          "base_uri": "https://localhost:8080/"
        }
      },
      "source": [
        "d"
      ],
      "execution_count": 85,
      "outputs": [
        {
          "output_type": "execute_result",
          "data": {
            "text/plain": [
              "array([10, 15, 20])"
            ]
          },
          "metadata": {},
          "execution_count": 85
        }
      ]
    },
    {
      "cell_type": "code",
      "metadata": {
        "id": "lY_L0I1LsXgG",
        "outputId": "11a975f2-8a68-4892-f0ab-3032f6cd4baf",
        "colab": {
          "base_uri": "https://localhost:8080/"
        }
      },
      "source": [
        "# Susunan berdasarkan kolom array a dan d\n",
        "np.column_stack((a,d))"
      ],
      "execution_count": 86,
      "outputs": [
        {
          "output_type": "execute_result",
          "data": {
            "text/plain": [
              "array([[ 1, 10],\n",
              "       [ 2, 15],\n",
              "       [ 3, 20]])"
            ]
          },
          "metadata": {},
          "execution_count": 86
        }
      ]
    },
    {
      "cell_type": "markdown",
      "metadata": {
        "id": "TI6yUZxNsXgG"
      },
      "source": [
        "### Create stacked column-wise arrays"
      ]
    },
    {
      "cell_type": "code",
      "metadata": {
        "scrolled": true,
        "id": "DtucqXS0sXgG",
        "outputId": "2f4dc415-6819-4376-91da-cb046abd6b35",
        "colab": {
          "base_uri": "https://localhost:8080/"
        }
      },
      "source": [
        "# Susunan berdasarkan kolom array a dan d\n",
        "np.c_[a,d]"
      ],
      "execution_count": 87,
      "outputs": [
        {
          "output_type": "execute_result",
          "data": {
            "text/plain": [
              "array([[ 1, 10],\n",
              "       [ 2, 15],\n",
              "       [ 3, 20]])"
            ]
          },
          "metadata": {},
          "execution_count": 87
        }
      ]
    },
    {
      "cell_type": "markdown",
      "metadata": {
        "id": "YZ7TuXPGsXgG"
      },
      "source": [
        "## Splitting Arrays"
      ]
    },
    {
      "cell_type": "markdown",
      "metadata": {
        "id": "sEA8OJQ1sXgG"
      },
      "source": [
        "### Split the array horizontally at the 3rd index"
      ]
    },
    {
      "cell_type": "code",
      "metadata": {
        "id": "c7jARc0-sXgH",
        "outputId": "9efb46a7-c3b5-4c11-9853-1bf9f797ddb6",
        "colab": {
          "base_uri": "https://localhost:8080/"
        }
      },
      "source": [
        "# Memisahkan array a secara horizontal pada indeks ke-3\n",
        "np.hsplit(a,3)"
      ],
      "execution_count": 88,
      "outputs": [
        {
          "output_type": "execute_result",
          "data": {
            "text/plain": [
              "[array([1]), array([2]), array([3])]"
            ]
          },
          "metadata": {},
          "execution_count": 88
        }
      ]
    },
    {
      "cell_type": "markdown",
      "metadata": {
        "id": "bSmI_piJsXgH"
      },
      "source": [
        "### Split the array vertically at the 2nd index"
      ]
    },
    {
      "cell_type": "code",
      "metadata": {
        "id": "G0uOWkWisXgH",
        "outputId": "afd8cb56-b7d4-44b1-f169-a3adf4266fd9",
        "colab": {
          "base_uri": "https://localhost:8080/"
        }
      },
      "source": [
        "# Memisahkan array c secara vertikal pada indeks ke-2\n",
        "np.vsplit(c,2)"
      ],
      "execution_count": 89,
      "outputs": [
        {
          "output_type": "execute_result",
          "data": {
            "text/plain": [
              "[array([[[1.5, 2. , 1. ],\n",
              "         [4. , 5. , 6. ]]]), array([[[3., 2., 3.],\n",
              "         [4., 5., 6.]]])]"
            ]
          },
          "metadata": {},
          "execution_count": 89
        }
      ]
    },
    {
      "cell_type": "markdown",
      "metadata": {
        "id": "SD0Imgr8sXgH"
      },
      "source": [
        "# Thank You"
      ]
    }
  ]
}